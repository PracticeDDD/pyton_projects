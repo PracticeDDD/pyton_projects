{
 "cells": [
  {
   "cell_type": "markdown",
   "id": "eecacb27",
   "metadata": {
    "pycharm": {
     "name": "#%% md\n"
    }
   },
   "source": [
    "# Домашнє завдання до теми \"Python Basics\"\n",
    "В цьому ДЗ важливою умовою виконання завдань є те, що ми не імпортуємо жодних бібліотек, а робимо все на чистому Python, використовуючи лише базовий функціонал. Це необхідно аби відпрацювати роботу з базовими типами даних. А використовувати бібліотеки ми ще навчимось далі :)"
   ]
  },
  {
   "cell_type": "markdown",
   "id": "8d3dc2b8",
   "metadata": {
    "pycharm": {
     "name": "#%% md\n"
    }
   },
   "source": [
    "## Робота з числами та арифметичними операторами"
   ]
  },
  {
   "cell_type": "markdown",
   "id": "7bcf6787",
   "metadata": {
    "ExecuteTime": {
     "end_time": "2023-05-26T10:30:07.427381Z",
     "start_time": "2023-05-26T10:30:07.416247Z"
    }
   },
   "source": [
    "1.Створіть змінну, яка буде зберігати кількість яблук. І надайте їй значення 5. Виведіть значення змінної на екран."
   ]
  },
  {
   "cell_type": "code",
   "execution_count": 21,
   "id": "7da461ce",
   "metadata": {
    "ExecuteTime": {
     "end_time": "2023-05-30T08:28:32.091358Z",
     "start_time": "2023-05-30T08:28:32.073311Z"
    }
   },
   "outputs": [],
   "source": [
    "napl = 5"
   ]
  },
  {
   "cell_type": "markdown",
   "id": "e452b630",
   "metadata": {},
   "source": [
    "2.Виведіть тип змінної, створеної в завданні (1)."
   ]
  },
  {
   "cell_type": "code",
   "execution_count": 9,
   "id": "ff4e284c",
   "metadata": {
    "ExecuteTime": {
     "end_time": "2023-05-30T08:21:14.177823Z",
     "start_time": "2023-05-30T08:21:14.163824Z"
    }
   },
   "outputs": [
    {
     "data": {
      "text/plain": [
       "int"
      ]
     },
     "execution_count": 9,
     "metadata": {},
     "output_type": "execute_result"
    }
   ],
   "source": [
    "type(napl)"
   ]
  },
  {
   "cell_type": "markdown",
   "id": "91712426",
   "metadata": {},
   "source": [
    "3.Додайте до значення змінної, створеної в завданні (1) число `12` і виведіть результат на екран з допомогою команди `print()`."
   ]
  },
  {
   "cell_type": "code",
   "execution_count": 22,
   "id": "cefca704",
   "metadata": {
    "ExecuteTime": {
     "end_time": "2023-05-30T08:28:34.698748Z",
     "start_time": "2023-05-30T08:28:34.677702Z"
    }
   },
   "outputs": [
    {
     "name": "stdout",
     "output_type": "stream",
     "text": [
      "17\n"
     ]
    }
   ],
   "source": [
    "napl = napl + 12\n",
    "print(napl)"
   ]
  },
  {
   "cell_type": "markdown",
   "id": "b5c02f39",
   "metadata": {
    "pycharm": {
     "name": "#%% md\n"
    }
   },
   "source": [
    "4.Створіть змінні `a`, `b`, `c` та `d`, задайте їм значення відповідно 101, 210, 111, 402, та обчисліть з допомогою Python наступний вираз:  $$ \\frac{(a+b) * c}{d} $$\n",
    "\n",
    "**Важливо**: тут ми маємо обчислити значення саме з використанням змінних, а не просто чисел, як би ми робили у калькуряторі. Змінні потрібні аби за бажання ми могли змінити їх значення та не переписувати код обчислення виразу, бо він буде працювати для різних значень змінних."
   ]
  },
  {
   "cell_type": "code",
   "execution_count": 2,
   "id": "0176179b",
   "metadata": {
    "ExecuteTime": {
     "end_time": "2023-06-06T10:13:50.769951Z",
     "start_time": "2023-06-06T10:13:50.739910Z"
    },
    "pycharm": {
     "name": "#%%\n"
    }
   },
   "outputs": [
    {
     "data": {
      "text/plain": [
       "85.8731343283582"
      ]
     },
     "execution_count": 2,
     "metadata": {},
     "output_type": "execute_result"
    }
   ],
   "source": [
    "a = 101\n",
    "b = 210\n",
    "c = 111\n",
    "d = 402\n",
    "x = (a + b) * c / d\n",
    "x"
   ]
  },
  {
   "cell_type": "markdown",
   "id": "6c5f1ced",
   "metadata": {
    "pycharm": {
     "name": "#%% md\n"
    }
   },
   "source": [
    "Очікувана відповідь: 85.8731343283582"
   ]
  },
  {
   "cell_type": "markdown",
   "id": "067f4369",
   "metadata": {},
   "source": [
    "5.Якою буде остача від ділення числа 11283 на 89? Обчисліть з допомогою Python."
   ]
  },
  {
   "cell_type": "code",
   "execution_count": 26,
   "id": "7296339f",
   "metadata": {
    "ExecuteTime": {
     "end_time": "2023-05-30T08:45:39.037374Z",
     "start_time": "2023-05-30T08:45:39.011379Z"
    }
   },
   "outputs": [
    {
     "data": {
      "text/plain": [
       "69"
      ]
     },
     "execution_count": 26,
     "metadata": {},
     "output_type": "execute_result"
    }
   ],
   "source": [
    "a = 11283\n",
    "b = 89\n",
    "c = a % b\n",
    "c"
   ]
  },
  {
   "cell_type": "markdown",
   "id": "98e700eb",
   "metadata": {},
   "source": [
    "6.Скільки цілих разів поміститься число 89 в 11283? (Або що те саме: який буде результат цілочисельного ділення 11283 на 89?)"
   ]
  },
  {
   "cell_type": "code",
   "execution_count": 27,
   "id": "eedcf886",
   "metadata": {
    "ExecuteTime": {
     "end_time": "2023-05-30T08:48:18.423057Z",
     "start_time": "2023-05-30T08:48:18.408060Z"
    }
   },
   "outputs": [
    {
     "data": {
      "text/plain": [
       "126"
      ]
     },
     "execution_count": 27,
     "metadata": {},
     "output_type": "execute_result"
    }
   ],
   "source": [
    "a = 11283\n",
    "b = 89\n",
    "c = a // b\n",
    "c\n"
   ]
  },
  {
   "cell_type": "markdown",
   "id": "af148c0f",
   "metadata": {
    "ExecuteTime": {
     "end_time": "2022-10-15T22:38:58.278123Z",
     "start_time": "2022-10-15T22:38:58.274895Z"
    },
    "pycharm": {
     "name": "#%% md\n"
    }
   },
   "source": [
    "# Робота з рядками"
   ]
  },
  {
   "cell_type": "markdown",
   "id": "756697e0",
   "metadata": {
    "pycharm": {
     "name": "#%% md\n"
    }
   },
   "source": [
    "7.Запишіть у змінну `name` ваше імʼя."
   ]
  },
  {
   "cell_type": "code",
   "execution_count": 5,
   "id": "a01da42e",
   "metadata": {
    "ExecuteTime": {
     "end_time": "2023-06-06T10:14:59.941214Z",
     "start_time": "2023-06-06T10:14:59.927218Z"
    },
    "pycharm": {
     "name": "#%%\n"
    }
   },
   "outputs": [],
   "source": [
    "name = 'Darya'"
   ]
  },
  {
   "cell_type": "markdown",
   "id": "4c703061",
   "metadata": {
    "pycharm": {
     "name": "#%% md\n"
    }
   },
   "source": [
    "8.Запишіть у змінну `surname` ваше прізвище."
   ]
  },
  {
   "cell_type": "code",
   "execution_count": 8,
   "id": "bd898297",
   "metadata": {
    "ExecuteTime": {
     "end_time": "2023-06-06T10:15:23.971666Z",
     "start_time": "2023-06-06T10:15:23.950670Z"
    },
    "pycharm": {
     "name": "#%%\n"
    }
   },
   "outputs": [],
   "source": [
    "surname = 'Surname_D'"
   ]
  },
  {
   "cell_type": "markdown",
   "id": "1bf4fe82",
   "metadata": {
    "pycharm": {
     "name": "#%% md\n"
    }
   },
   "source": [
    "9.Сконкатенуйте імʼя та прізвище в одну фразу через пробіл. Запишіть результат у нову змінну `name_surname` та виведіть результат на екран.  "
   ]
  },
  {
   "cell_type": "code",
   "execution_count": 9,
   "id": "14647504",
   "metadata": {
    "ExecuteTime": {
     "end_time": "2023-06-06T10:15:27.288658Z",
     "start_time": "2023-06-06T10:15:27.267611Z"
    },
    "pycharm": {
     "name": "#%%\n"
    }
   },
   "outputs": [
    {
     "name": "stdout",
     "output_type": "stream",
     "text": [
      "Darya   Surname_D\n"
     ]
    }
   ],
   "source": [
    "name_surname = (name + \" \" + surname)\n",
    "print(name,\" \",surname)"
   ]
  },
  {
   "cell_type": "markdown",
   "id": "efce6450",
   "metadata": {
    "pycharm": {
     "name": "#%% md\n"
    }
   },
   "source": [
    "Очікувана відповідь (тільки з вашими даними): 'Hanna Pylieva' "
   ]
  },
  {
   "cell_type": "markdown",
   "id": "d5b22155",
   "metadata": {
    "pycharm": {
     "name": "#%% md\n"
    }
   },
   "source": [
    "10.Зробіть усі літери змінної `name_surname` заглавними використовуючи метод рядків в Python:"
   ]
  },
  {
   "cell_type": "code",
   "execution_count": 10,
   "id": "4a6d0de9",
   "metadata": {
    "ExecuteTime": {
     "end_time": "2023-06-06T10:15:37.834462Z",
     "start_time": "2023-06-06T10:15:37.822462Z"
    },
    "pycharm": {
     "name": "#%%\n"
    }
   },
   "outputs": [
    {
     "name": "stdout",
     "output_type": "stream",
     "text": [
      "DARYA SURNAME_D\n"
     ]
    }
   ],
   "source": [
    "print(name_surname.upper())"
   ]
  },
  {
   "cell_type": "markdown",
   "id": "48b707ef",
   "metadata": {
    "pycharm": {
     "name": "#%% md\n"
    }
   },
   "source": [
    "Очікувана відповідь (тільки з вашими даними): 'HANNA PYLIEVA'"
   ]
  },
  {
   "cell_type": "markdown",
   "id": "9b696d4c",
   "metadata": {
    "pycharm": {
     "name": "#%% md\n"
    }
   },
   "source": [
    "11.Виведіть третю літеру вашого `name_surname`. Тут уважно, треба саме третя літера. Згадайте, з якого значення починається індексування значень в Python."
   ]
  },
  {
   "cell_type": "code",
   "execution_count": 70,
   "id": "cf32c947",
   "metadata": {
    "ExecuteTime": {
     "end_time": "2023-05-30T10:21:31.475488Z",
     "start_time": "2023-05-30T10:21:31.366779Z"
    },
    "pycharm": {
     "name": "#%%\n"
    }
   },
   "outputs": [
    {
     "data": {
      "text/plain": [
       "'r'"
      ]
     },
     "execution_count": 70,
     "metadata": {},
     "output_type": "execute_result"
    }
   ],
   "source": [
    "name_surname[2]"
   ]
  },
  {
   "cell_type": "markdown",
   "id": "7e571f28",
   "metadata": {
    "pycharm": {
     "name": "#%% md\n"
    }
   },
   "source": [
    "Очікувана відповідь (тільки з вашими даними): 'n'"
   ]
  },
  {
   "cell_type": "markdown",
   "id": "b37cdb1f",
   "metadata": {
    "pycharm": {
     "name": "#%% md\n"
    }
   },
   "source": [
    "12.Виведіть першу та останню літеру вашого прізвища."
   ]
  },
  {
   "cell_type": "code",
   "execution_count": 11,
   "id": "818177b9",
   "metadata": {
    "ExecuteTime": {
     "end_time": "2023-06-06T10:16:03.566360Z",
     "start_time": "2023-06-06T10:16:03.552314Z"
    },
    "pycharm": {
     "name": "#%%\n"
    }
   },
   "outputs": [
    {
     "name": "stdout",
     "output_type": "stream",
     "text": [
      "S D\n"
     ]
    }
   ],
   "source": [
    "print(surname[0], surname[-1])\n",
    "\n"
   ]
  },
  {
   "cell_type": "markdown",
   "id": "0d5751e2",
   "metadata": {
    "pycharm": {
     "name": "#%% md\n"
    }
   },
   "source": [
    "Очікувана відповідь (тільки з вашими даними): ('P', 'a')"
   ]
  },
  {
   "cell_type": "markdown",
   "id": "236dfd62",
   "metadata": {
    "pycharm": {
     "name": "#%% md\n"
    }
   },
   "source": [
    "13.Виведіть довжину вашого прізвища."
   ]
  },
  {
   "cell_type": "code",
   "execution_count": 12,
   "id": "5859aa54",
   "metadata": {
    "ExecuteTime": {
     "end_time": "2023-06-06T10:16:15.805059Z",
     "start_time": "2023-06-06T10:16:15.791054Z"
    },
    "pycharm": {
     "name": "#%%\n"
    }
   },
   "outputs": [
    {
     "name": "stdout",
     "output_type": "stream",
     "text": [
      "9\n"
     ]
    }
   ],
   "source": [
    "print(len(surname))"
   ]
  },
  {
   "cell_type": "markdown",
   "id": "57db8bba",
   "metadata": {
    "pycharm": {
     "name": "#%% md\n"
    }
   },
   "source": [
    "Очікувана відповідь (тільки з вашими даними): 7"
   ]
  },
  {
   "cell_type": "markdown",
   "id": "c247d96c",
   "metadata": {
    "pycharm": {
     "name": "#%% md\n"
    }
   },
   "source": [
    "14.Виведіть кількість літер `a` у столиці Мадагаскару `Antananarivo`. Важливо врахувати всі літери, як великі, так і маленькі."
   ]
  },
  {
   "cell_type": "code",
   "execution_count": 13,
   "id": "96182565",
   "metadata": {
    "ExecuteTime": {
     "end_time": "2023-06-06T10:16:28.649848Z",
     "start_time": "2023-06-06T10:16:28.632853Z"
    },
    "pycharm": {
     "name": "#%%\n"
    }
   },
   "outputs": [
    {
     "name": "stdout",
     "output_type": "stream",
     "text": [
      "4\n"
     ]
    }
   ],
   "source": [
    "a = 'Antananarivo'\n",
    "a = a.lower()\n",
    "b = a.count('a')\n",
    "print(b) "
   ]
  },
  {
   "cell_type": "markdown",
   "id": "c87f1bfd",
   "metadata": {
    "pycharm": {
     "name": "#%% md\n"
    }
   },
   "source": [
    "Очікувана відповідь: 4"
   ]
  },
  {
   "cell_type": "markdown",
   "id": "f34bf891",
   "metadata": {
    "ExecuteTime": {
     "end_time": "2023-05-28T22:53:18.824389Z",
     "start_time": "2023-05-28T22:53:18.816117Z"
    }
   },
   "source": [
    "15.Створіть рядок `my_string` зі значенням: \"The quick brown fox jumps over the lazy dog!!!\".   \n",
    "Перевірте, чи починається рядок `my_string` з \"The\" і чи закінчується він \"dog!\". Виведіть результати на екран."
   ]
  },
  {
   "cell_type": "code",
   "execution_count": 18,
   "id": "6a761ba0",
   "metadata": {
    "ExecuteTime": {
     "end_time": "2023-06-06T10:17:58.141542Z",
     "start_time": "2023-06-06T10:17:58.123544Z"
    }
   },
   "outputs": [],
   "source": [
    "my_string =  \"The quick brown fox jumps over the lazy dog!!!\"\n"
   ]
  },
  {
   "cell_type": "markdown",
   "id": "a5667ceb",
   "metadata": {},
   "source": [
    "16.Розділіть рядок `my_string` на список слів, а потім з'єднайте всі слова через нижнє підкреслювання. Виведіть результат на екран."
   ]
  },
  {
   "cell_type": "code",
   "execution_count": 19,
   "id": "8a4f64ac",
   "metadata": {
    "ExecuteTime": {
     "end_time": "2023-06-06T10:18:01.280139Z",
     "start_time": "2023-06-06T10:18:01.265139Z"
    }
   },
   "outputs": [
    {
     "data": {
      "text/plain": [
       "['T',\n",
       " 'h',\n",
       " 'e',\n",
       " ' ',\n",
       " 'q',\n",
       " 'u',\n",
       " 'i',\n",
       " 'c',\n",
       " 'k',\n",
       " ' ',\n",
       " 'b',\n",
       " 'r',\n",
       " 'o',\n",
       " 'w',\n",
       " 'n',\n",
       " ' ',\n",
       " 'f',\n",
       " 'o',\n",
       " 'x',\n",
       " ' ',\n",
       " 'j',\n",
       " 'u',\n",
       " 'm',\n",
       " 'p',\n",
       " 's',\n",
       " ' ',\n",
       " 'o',\n",
       " 'v',\n",
       " 'e',\n",
       " 'r',\n",
       " ' ',\n",
       " 't',\n",
       " 'h',\n",
       " 'e',\n",
       " ' ',\n",
       " 'l',\n",
       " 'a',\n",
       " 'z',\n",
       " 'y',\n",
       " ' ',\n",
       " 'd',\n",
       " 'o',\n",
       " 'g',\n",
       " '!',\n",
       " '!',\n",
       " '!']"
      ]
     },
     "execution_count": 19,
     "metadata": {},
     "output_type": "execute_result"
    }
   ],
   "source": [
    "list(my_string)\n"
   ]
  },
  {
   "cell_type": "markdown",
   "id": "6b8b573c",
   "metadata": {},
   "source": [
    "Очікуваний результат: `The_quick_brown_fox_jumps_over_the_lazy_dog!!!`"
   ]
  },
  {
   "cell_type": "markdown",
   "id": "05c5cd5d",
   "metadata": {
    "pycharm": {
     "name": "#%% md\n"
    }
   },
   "source": [
    "# Робота зі колекціями"
   ]
  },
  {
   "cell_type": "markdown",
   "id": "c28c1c21",
   "metadata": {
    "pycharm": {
     "name": "#%% md\n"
    }
   },
   "source": [
    "У нас є наступний список:"
   ]
  },
  {
   "cell_type": "code",
   "execution_count": 13,
   "id": "6b704752",
   "metadata": {
    "ExecuteTime": {
     "end_time": "2023-06-04T09:58:41.062434Z",
     "start_time": "2023-06-04T09:58:40.991386Z"
    },
    "pycharm": {
     "name": "#%%\n"
    }
   },
   "outputs": [],
   "source": [
    "my_list = [\n",
    "    78, 12, 14, 27, 47, 28, 51, 46, 94, 37, 42, 20, 52, 33, 11, 11, 51,\n",
    "    20, 81, 54, 86, 51, 38, 42, 49, 99, 76, 17,  9, 23, 97, 29, 29, 63,\n",
    "    40, 11, 31, 76, 15, 21, 29, 75, 35,  2, 10, 71, 17, 10, 13,  7, 44,\n",
    "    12, 19, 61, 13, 25, 62, 46, 10, 44, 75, 57, 20, 57,  3, 44, 16, 28,\n",
    "    79, 57, 62, 70, 95,  8, 47, 82, 80, 45, 36, 44, 79, 95, 73, 42, 29,\n",
    "    83, 80, 66, 56,  8, 73,  5, 99, 65, 65, 98, 17, 36, 16, 60\n",
    "]"
   ]
  },
  {
   "cell_type": "markdown",
   "id": "e3df7697",
   "metadata": {
    "pycharm": {
     "name": "#%% md\n"
    }
   },
   "source": [
    "Будемо з ним працювати в наступних завданнях."
   ]
  },
  {
   "cell_type": "markdown",
   "id": "e6a83c57",
   "metadata": {
    "pycharm": {
     "name": "#%% md\n"
    }
   },
   "source": [
    "17.Виведіть 5 перших елементів списку `my_list` з допомогою слайсингу."
   ]
  },
  {
   "cell_type": "code",
   "execution_count": 15,
   "id": "03406f0e",
   "metadata": {
    "ExecuteTime": {
     "end_time": "2023-06-04T09:59:01.536311Z",
     "start_time": "2023-06-04T09:59:01.422365Z"
    },
    "pycharm": {
     "name": "#%%\n"
    }
   },
   "outputs": [
    {
     "data": {
      "text/plain": [
       "[78, 12, 14, 27, 47]"
      ]
     },
     "execution_count": 15,
     "metadata": {},
     "output_type": "execute_result"
    }
   ],
   "source": [
    "my_list[:5]"
   ]
  },
  {
   "cell_type": "markdown",
   "id": "5995cb1f",
   "metadata": {
    "pycharm": {
     "name": "#%% md\n"
    }
   },
   "source": [
    "Очікувана відповідь: [78, 12, 14, 27, 47]"
   ]
  },
  {
   "cell_type": "markdown",
   "id": "f69f3d80",
   "metadata": {
    "ExecuteTime": {
     "end_time": "2023-05-28T22:46:26.546845Z",
     "start_time": "2023-05-28T22:46:26.540558Z"
    }
   },
   "source": [
    "18.Виведіть 3 останніх елементи списку `my_list` з допомогою слайсингу."
   ]
  },
  {
   "cell_type": "code",
   "execution_count": 24,
   "id": "72d7cf26",
   "metadata": {
    "ExecuteTime": {
     "end_time": "2023-06-04T10:02:35.394198Z",
     "start_time": "2023-06-04T10:02:35.377163Z"
    }
   },
   "outputs": [
    {
     "data": {
      "text/plain": [
       "[36, 16, 60]"
      ]
     },
     "execution_count": 24,
     "metadata": {},
     "output_type": "execute_result"
    }
   ],
   "source": [
    "my_list[-3:]"
   ]
  },
  {
   "cell_type": "markdown",
   "id": "9505e3a8",
   "metadata": {
    "pycharm": {
     "name": "#%% md\n"
    }
   },
   "source": [
    "19.Виведіть максимальний і мінімальний елемент у списку. Сформуйте відповідь у наступному форматі\n",
    "```\n",
    "Max element  <число>\n",
    "Max element  <число>\n",
    "```"
   ]
  },
  {
   "cell_type": "code",
   "execution_count": 160,
   "id": "ee4694d0",
   "metadata": {
    "ExecuteTime": {
     "end_time": "2023-06-04T11:01:15.438912Z",
     "start_time": "2023-06-04T11:01:15.411914Z"
    },
    "pycharm": {
     "name": "#%%\n"
    }
   },
   "outputs": [
    {
     "data": {
      "text/plain": [
       "'Max element'"
      ]
     },
     "metadata": {},
     "output_type": "display_data"
    },
    {
     "data": {
      "text/plain": [
       "99"
      ]
     },
     "metadata": {},
     "output_type": "display_data"
    },
    {
     "data": {
      "text/plain": [
       "'Min element'"
      ]
     },
     "metadata": {},
     "output_type": "display_data"
    },
    {
     "data": {
      "text/plain": [
       "2"
      ]
     },
     "metadata": {},
     "output_type": "display_data"
    }
   ],
   "source": [
    "display('Max element', max(my_list), 'Min element', min(my_list))"
   ]
  },
  {
   "cell_type": "markdown",
   "id": "7a020677",
   "metadata": {
    "pycharm": {
     "name": "#%% md\n"
    }
   },
   "source": [
    "Очікувана відповідь: \n",
    "\n",
    "```\n",
    "Max element  99\n",
    "Max element  2\n",
    "```"
   ]
  },
  {
   "cell_type": "code",
   "execution_count": 106,
   "id": "200fa479",
   "metadata": {
    "ExecuteTime": {
     "end_time": "2023-06-04T10:42:08.557537Z",
     "start_time": "2023-06-04T10:42:08.548536Z"
    }
   },
   "outputs": [
    {
     "name": "stdout",
     "output_type": "stream",
     "text": [
      "Max element\t99\n",
      "Min element\t2\n"
     ]
    }
   ],
   "source": [
    "print(f\"Max element\\t{max(my_list)}\\nMin element\\t{min(my_list)}\") "
   ]
  },
  {
   "cell_type": "code",
   "execution_count": 143,
   "id": "c01bf8d8",
   "metadata": {
    "ExecuteTime": {
     "end_time": "2023-06-04T10:54:27.792584Z",
     "start_time": "2023-06-04T10:54:27.769588Z"
    }
   },
   "outputs": [
    {
     "name": "stdout",
     "output_type": "stream",
     "text": [
      "Max element\t99\t\n",
      "Min element\t2\n"
     ]
    }
   ],
   "source": [
    "print('Max element', max(my_list),\n",
    "      '\\nMin element', min(my_list), \n",
    "      sep='\\t')  "
   ]
  },
  {
   "cell_type": "markdown",
   "id": "e16c9c50",
   "metadata": {
    "pycharm": {
     "name": "#%% md\n"
    }
   },
   "source": [
    "20.Створіть новий список `my_list_2`, який містить кожен 11-й елемент списку `my_list`. Виведіть `my_list_2` на екран.  \n",
    "Памʼятаємо, що перший з \"кожного одинадцятого улементу\" списку має індекс 10.\n",
    "Це завдання можна виконати як з використанням циклів, так і з використанням слайсингу."
   ]
  },
  {
   "cell_type": "code",
   "execution_count": 7,
   "id": "17b5ad9d",
   "metadata": {
    "ExecuteTime": {
     "end_time": "2023-06-05T07:33:01.289486Z",
     "start_time": "2023-06-05T07:33:01.273487Z"
    },
    "pycharm": {
     "name": "#%%\n"
    }
   },
   "outputs": [],
   "source": [
    "my_list = [\n",
    "    78, 12, 14, 27, 47, 28, 51, 46, 94, 37, 42,\n",
    "    20, 52, 33, 11, 11, 51, 20, 81, 54, 86, 51, \n",
    "    38, 42, 49, 99, 76, 17,  9, 23, 97, 29, 29, \n",
    "    63, 40, 11, 31, 76, 15, 21, 29, 75, 35,  2,\n",
    "    10, 71, 17, 10, 13,  7, 44, 12, 19, 61, 13, \n",
    "    25, 62, 46, 10, 44, 75, 57, 20, 57,  3, 44, \n",
    "    16, 28, 79, 57, 62, 70, 95,  8, 47, 82, 80,\n",
    "    45, 36, 44, 79, 95, 73, 42, 29, 83, 80, 66,\n",
    "    56,  8, 73,  5, 99, 65, 65, 98, 17, 36, 16, 60\n",
    "]"
   ]
  },
  {
   "cell_type": "code",
   "execution_count": 11,
   "id": "aa2653e9",
   "metadata": {
    "ExecuteTime": {
     "end_time": "2023-06-05T07:33:51.437868Z",
     "start_time": "2023-06-05T07:33:51.421869Z"
    }
   },
   "outputs": [
    {
     "data": {
      "text/plain": [
       "[42, 51, 29, 2, 13, 44, 80, 66, 16]"
      ]
     },
     "execution_count": 11,
     "metadata": {},
     "output_type": "execute_result"
    }
   ],
   "source": [
    "my_list2 = my_list[10:-1:11]\n",
    "my_list2"
   ]
  },
  {
   "cell_type": "markdown",
   "id": "82a19902",
   "metadata": {
    "ExecuteTime": {
     "end_time": "2023-01-20T20:10:37.303981Z",
     "start_time": "2023-01-20T20:10:37.275706Z"
    },
    "pycharm": {
     "name": "#%%\n"
    }
   },
   "source": [
    "Очікуваний результат: `[42, 51, 29, 2, 13, 44, 80, 66, 16]`"
   ]
  },
  {
   "cell_type": "markdown",
   "id": "18f5d4a3",
   "metadata": {},
   "source": [
    "## ВИ - МОЛОДЕЦЬ! ЗРОБИЛИ 20 ЗАВДАНЬ!\n",
    "Далі завдання будуть трохи складніше. Деколи в завданнях треба буде написати цикл або list comprehension. Але я впевнена, що у Вас все вийде!"
   ]
  },
  {
   "cell_type": "markdown",
   "id": "343c6be2",
   "metadata": {
    "pycharm": {
     "name": "#%% md\n"
    }
   },
   "source": [
    "21.Створіть новий список `my_list_2_squared`, де кожен елемент списку `my_list_2` є піднесеним до степіня 2. "
   ]
  },
  {
   "cell_type": "markdown",
   "id": "b1c29f7d",
   "metadata": {
    "pycharm": {
     "name": "#%% md\n"
    }
   },
   "source": [
    "Очікуваний результат: `[1764, 2601, 841, 4, 169, 1936, 6400, 4356, 256]`"
   ]
  },
  {
   "cell_type": "code",
   "execution_count": 12,
   "id": "b87b5149",
   "metadata": {
    "ExecuteTime": {
     "end_time": "2023-06-05T07:33:55.808640Z",
     "start_time": "2023-06-05T07:33:55.786640Z"
    }
   },
   "outputs": [
    {
     "name": "stdout",
     "output_type": "stream",
     "text": [
      "[1764, 2601, 841, 4, 169, 1936, 6400, 4356, 256]\n"
     ]
    }
   ],
   "source": [
    "my_list_2_squared = list()\n",
    "for item in my_list2:\n",
    "    my_list_2_squared.append(item ** 2)\n",
    "print(my_list_2_squared)"
   ]
  },
  {
   "cell_type": "markdown",
   "id": "9ce2027d",
   "metadata": {
    "pycharm": {
     "name": "#%% md\n"
    }
   },
   "source": [
    "22.Знайдіть суму всіх елементів списку `my_list_2` та виведіть її на екран."
   ]
  },
  {
   "cell_type": "code",
   "execution_count": 13,
   "id": "0e44f0c0",
   "metadata": {
    "ExecuteTime": {
     "end_time": "2023-06-05T07:34:29.703874Z",
     "start_time": "2023-06-05T07:34:29.693920Z"
    },
    "pycharm": {
     "name": "#%%\n"
    }
   },
   "outputs": [
    {
     "name": "stdout",
     "output_type": "stream",
     "text": [
      "343\n"
     ]
    }
   ],
   "source": [
    "print(sum(my_list2))"
   ]
  },
  {
   "cell_type": "markdown",
   "id": "4570727c",
   "metadata": {
    "pycharm": {
     "name": "#%% md\n"
    }
   },
   "source": [
    "23.Знайдіть середнє значення елементів списку `my_list_2`, збережіть результат у змінну `my_list_2_mean`. Виведіть новостворену змінну та ії тип на екран.\n",
    "**Підказка**: середнє значення - це сума елементів поділена на їх кількість. А кількість елементів в списку - це його довжина."
   ]
  },
  {
   "cell_type": "code",
   "execution_count": 45,
   "id": "2f813f61",
   "metadata": {
    "ExecuteTime": {
     "end_time": "2023-06-05T07:56:58.356595Z",
     "start_time": "2023-06-05T07:56:58.343548Z"
    }
   },
   "outputs": [
    {
     "name": "stdout",
     "output_type": "stream",
     "text": [
      "38.11 <class 'float'>\n"
     ]
    }
   ],
   "source": [
    "my_list_2_mean = round(sum(my_list2)/len(my_list2),2)\n",
    "print(my_list_2_mean, type(my_list_2_mean))\n"
   ]
  },
  {
   "cell_type": "markdown",
   "id": "6b9890af",
   "metadata": {
    "pycharm": {
     "name": "#%% md\n"
    }
   },
   "source": [
    "24.Створіть новий список `my_list_2_gt_mean`, за наступним правилом: \"якщо цей елемент спиcку `my_list_2` є більше за `my_list_2_mean`, то запишемо 1, інакше 0. Виведіть новий список на екран."
   ]
  },
  {
   "cell_type": "code",
   "execution_count": null,
   "id": "36ed6cb7",
   "metadata": {
    "ExecuteTime": {
     "end_time": "2023-06-06T10:21:25.401604Z",
     "start_time": "2023-06-06T10:21:25.346652Z"
    },
    "pycharm": {
     "name": "#%%\n"
    }
   },
   "outputs": [],
   "source": []
  },
  {
   "cell_type": "markdown",
   "id": "3fc1101e",
   "metadata": {},
   "source": [
    "Очікуваний результат: `[1, 1, 0, 0, 0, 1, 1, 1, 0]`"
   ]
  },
  {
   "cell_type": "code",
   "execution_count": null,
   "id": "9e63256b",
   "metadata": {
    "ExecuteTime": {
     "end_time": "2023-06-05T12:58:25.825123Z",
     "start_time": "2023-06-05T12:58:25.731127Z"
    }
   },
   "outputs": [],
   "source": []
  },
  {
   "cell_type": "markdown",
   "id": "1fa19216",
   "metadata": {
    "pycharm": {
     "name": "#%% md\n"
    }
   },
   "source": [
    "25.Чи є в списку `my_list` елементи, які повторюються? Перевірте це програмно і з допомогою інструкцій `if ... else` виведіть на екран відповідь \"Так, є елементи, які повторюються\", або \"Ні, всі елементи унікальні\".\n",
    "Важливо це зробити без використання імпортів будь-яких бібліотек, на чистому Python так би мовити."
   ]
  },
  {
   "cell_type": "code",
   "execution_count": null,
   "id": "36a64621",
   "metadata": {
    "ExecuteTime": {
     "end_time": "2023-06-06T10:22:18.589098Z",
     "start_time": "2023-06-06T10:22:18.542055Z"
    },
    "pycharm": {
     "name": "#%%\n"
    }
   },
   "outputs": [],
   "source": []
  },
  {
   "cell_type": "code",
   "execution_count": null,
   "id": "185dc417",
   "metadata": {},
   "outputs": [],
   "source": []
  },
  {
   "cell_type": "markdown",
   "id": "8737ff2c",
   "metadata": {
    "pycharm": {
     "name": "#%% md\n"
    }
   },
   "source": [
    "26.Для кожного унікального елементу списку `my_list` знайдіть, скільки разів він повторюється, та запишіть сукупний результат для всіх елементів (тобто скільки разів повторюється кожен елемент) у змінну `n_repeats`. Виведіть `n_repeats` на екран. \n",
    "\n",
    "**Підказка**: `n_repeats` матиме тип \"словник\". Порядок ключів в словнику не має значення! Тобто ключі в словнику не обовʼязково мають бути в тому ж порядку, як наведено в прикладі результату. Але кількості зустрічань для кожного елемента мають співпадати з наведеними. "
   ]
  },
  {
   "cell_type": "code",
   "execution_count": null,
   "id": "bc550e84",
   "metadata": {
    "pycharm": {
     "name": "#%%\n"
    }
   },
   "outputs": [],
   "source": []
  },
  {
   "cell_type": "markdown",
   "id": "356abe14",
   "metadata": {
    "pycharm": {
     "name": "#%% md\n"
    }
   },
   "source": [
    "Очікуваний результат (три крапки - для скорочення, у вас буде виведений повний набір унікальних елементів): \n",
    "```\n",
    "{2: 1, 3: 1, 5: 1, 7: 1, 8: 2, 9: 1, 10: 3, 11: 3, 12: 2, 13: 2, 14: 1, 15: 1, 16: 2, 17: 3, 19: 1, 20: 3, 21: 1, 23: 1, 25: 1, 27: 1, 28: 2, 29: 4, 31: 1, 33: 1, 35: 1, 36: 2, 37: 1, 38: 1, 40: 1, 42: 3, 44: 4, 45: 1, 46: 2, 47: 2, 49: 1, 51: 3, 52: 1, 54: 1, 56: 1, 57: 3, 60: 1, 61: 1, 62: 2, 63: 1, 65: 2, 66: 1, 70: 1, 71: 1, 73: 2, 75: 2, 76: 2, 78: 1, 79: 2, 80: 2, 81: 1, 82: 1, 83: 1, 86: 1, 94: 1, 95: 2, 97: 1, 98: 1, 99: 2}\n",
    "```"
   ]
  },
  {
   "cell_type": "markdown",
   "id": "7db6acf5",
   "metadata": {
    "pycharm": {
     "name": "#%% md\n"
    }
   },
   "source": [
    "27.Знайдіть три найменші **унікальні** елементи в списку `my_list`. Збережіть знайдені елементи в змінну `least_3_my_list`. Виведіть значення змінної `least_3_my_list` на екран."
   ]
  },
  {
   "cell_type": "code",
   "execution_count": null,
   "id": "ec3a7c22",
   "metadata": {
    "pycharm": {
     "name": "#%%\n"
    }
   },
   "outputs": [],
   "source": []
  },
  {
   "cell_type": "markdown",
   "id": "5848b1db",
   "metadata": {
    "pycharm": {
     "name": "#%% md\n"
    }
   },
   "source": [
    "Очікувана відповідь: [2, 3, 5]\n"
   ]
  },
  {
   "cell_type": "markdown",
   "id": "1448dcfc",
   "metadata": {
    "pycharm": {
     "name": "#%% md\n"
    }
   },
   "source": [
    "# Ураа!! Ви завершили перше домашнє завдання!!!  \n",
    "Аби здати ДЗ - залийте ноутбук у гітхаб репозиторій, який ви створили у перші дні навчання на курсі, та додайте посилання на файл у відповідному завданні в Eduflow.\n",
    "Так тримати! 🚀🚀🚀"
   ]
  }
 ],
 "metadata": {
  "kernelspec": {
   "display_name": "Python 3 (ipykernel)",
   "language": "python",
   "name": "python3"
  },
  "language_info": {
   "codemirror_mode": {
    "name": "ipython",
    "version": 3
   },
   "file_extension": ".py",
   "mimetype": "text/x-python",
   "name": "python",
   "nbconvert_exporter": "python",
   "pygments_lexer": "ipython3",
   "version": "3.10.9"
  },
  "toc": {
   "base_numbering": 1,
   "nav_menu": {},
   "number_sections": true,
   "sideBar": true,
   "skip_h1_title": false,
   "title_cell": "Table of Contents",
   "title_sidebar": "Contents",
   "toc_cell": false,
   "toc_position": {},
   "toc_section_display": true,
   "toc_window_display": false
  },
  "varInspector": {
   "cols": {
    "lenName": 16,
    "lenType": 16,
    "lenVar": 40
   },
   "kernels_config": {
    "python": {
     "delete_cmd_postfix": "",
     "delete_cmd_prefix": "del ",
     "library": "var_list.py",
     "varRefreshCmd": "print(var_dic_list())"
    },
    "r": {
     "delete_cmd_postfix": ") ",
     "delete_cmd_prefix": "rm(",
     "library": "var_list.r",
     "varRefreshCmd": "cat(var_dic_list()) "
    }
   },
   "types_to_exclude": [
    "module",
    "function",
    "builtin_function_or_method",
    "instance",
    "_Feature"
   ],
   "window_display": false
  }
 },
 "nbformat": 4,
 "nbformat_minor": 5
}
